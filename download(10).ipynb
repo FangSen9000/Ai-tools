{
 "cells": [
  {
   "cell_type": "code",
   "execution_count": 1,
   "id": "73ab35dd",
   "metadata": {},
   "outputs": [],
   "source": [
    "import pandas as pd\n",
    "import numpy as np\n",
    "from pandas import Series, DataFrame\n",
    "import ffmpeg as fg"
   ]
  },
  {
   "cell_type": "code",
   "execution_count": 2,
   "id": "c0806531",
   "metadata": {},
   "outputs": [],
   "source": [
    "#改变jupyter展示默认行数\n",
    "# pd.set_option(\"display.max_rows\",None)\n",
    "# pd.set_option(\"display.max_columns\",None)\n",
    "# pd.set_option('display.max_colwidth', 1000)"
   ]
  },
  {
   "cell_type": "code",
   "execution_count": 3,
   "id": "4f11cfbc",
   "metadata": {},
   "outputs": [],
   "source": [
    "pd.set_option('display.unicode.ambiguous_as_wide', True)\n",
    "pd.set_option('display.unicode.east_asian_width', True)"
   ]
  },
  {
   "cell_type": "code",
   "execution_count": 4,
   "id": "fd38b983",
   "metadata": {},
   "outputs": [],
   "source": [
    "df = pd.read_csv('balanced_train_segments.csv', index_col=None)"
   ]
  },
  {
   "cell_type": "code",
   "execution_count": 5,
   "id": "a510d3da",
   "metadata": {
    "scrolled": false
   },
   "outputs": [
    {
     "data": {
      "text/html": [
       "<div>\n",
       "<style scoped>\n",
       "    .dataframe tbody tr th:only-of-type {\n",
       "        vertical-align: middle;\n",
       "    }\n",
       "\n",
       "    .dataframe tbody tr th {\n",
       "        vertical-align: top;\n",
       "    }\n",
       "\n",
       "    .dataframe thead th {\n",
       "        text-align: right;\n",
       "    }\n",
       "</style>\n",
       "<table border=\"1\" class=\"dataframe\">\n",
       "  <thead>\n",
       "    <tr style=\"text-align: right;\">\n",
       "      <th></th>\n",
       "      <th>YouTube_ID</th>\n",
       "      <th>start</th>\n",
       "    </tr>\n",
       "  </thead>\n",
       "  <tbody>\n",
       "    <tr>\n",
       "      <th>0</th>\n",
       "      <td>--PJHxphWEs</td>\n",
       "      <td>30.0</td>\n",
       "    </tr>\n",
       "    <tr>\n",
       "      <th>1</th>\n",
       "      <td>--ZhevVpy1s</td>\n",
       "      <td>50.0</td>\n",
       "    </tr>\n",
       "    <tr>\n",
       "      <th>2</th>\n",
       "      <td>--aE2O5G5WE</td>\n",
       "      <td>0.0</td>\n",
       "    </tr>\n",
       "    <tr>\n",
       "      <th>3</th>\n",
       "      <td>--aO5cdqSAg</td>\n",
       "      <td>30.0</td>\n",
       "    </tr>\n",
       "    <tr>\n",
       "      <th>4</th>\n",
       "      <td>--aaILOrkII</td>\n",
       "      <td>200.0</td>\n",
       "    </tr>\n",
       "    <tr>\n",
       "      <th>...</th>\n",
       "      <td>...</td>\n",
       "      <td>...</td>\n",
       "    </tr>\n",
       "    <tr>\n",
       "      <th>22155</th>\n",
       "      <td>zyqg4pYEioQ</td>\n",
       "      <td>20.0</td>\n",
       "    </tr>\n",
       "    <tr>\n",
       "      <th>22156</th>\n",
       "      <td>zz0ddNfz0h0</td>\n",
       "      <td>30.0</td>\n",
       "    </tr>\n",
       "    <tr>\n",
       "      <th>22157</th>\n",
       "      <td>zz8TGV83nkE</td>\n",
       "      <td>80.0</td>\n",
       "    </tr>\n",
       "    <tr>\n",
       "      <th>22158</th>\n",
       "      <td>zzlK8KDqlr0</td>\n",
       "      <td>370.0</td>\n",
       "    </tr>\n",
       "    <tr>\n",
       "      <th>22159</th>\n",
       "      <td>zzya4dDVRLk</td>\n",
       "      <td>30.0</td>\n",
       "    </tr>\n",
       "  </tbody>\n",
       "</table>\n",
       "<p>22160 rows × 2 columns</p>\n",
       "</div>"
      ],
      "text/plain": [
       "        YouTube_ID  start\n",
       "0      --PJHxphWEs   30.0\n",
       "1      --ZhevVpy1s   50.0\n",
       "2      --aE2O5G5WE    0.0\n",
       "3      --aO5cdqSAg   30.0\n",
       "4      --aaILOrkII  200.0\n",
       "...            ...    ...\n",
       "22155  zyqg4pYEioQ   20.0\n",
       "22156  zz0ddNfz0h0   30.0\n",
       "22157  zz8TGV83nkE   80.0\n",
       "22158  zzlK8KDqlr0  370.0\n",
       "22159  zzya4dDVRLk   30.0\n",
       "\n",
       "[22160 rows x 2 columns]"
      ]
     },
     "execution_count": 5,
     "metadata": {},
     "output_type": "execute_result"
    }
   ],
   "source": [
    "df = df.dropna()\n",
    "df"
   ]
  },
  {
   "cell_type": "code",
   "execution_count": 6,
   "id": "808e7a4c",
   "metadata": {},
   "outputs": [
    {
     "name": "stdout",
     "output_type": "stream",
     "text": [
      "cd /d C:\\Users\\Jae\\Desktop\\data\\AudioSet_Data\n"
     ]
    }
   ],
   "source": [
    "print(r\"cd /d C:\\Users\\Jae\\Desktop\\data\\AudioSet_Data\")"
   ]
  },
  {
   "cell_type": "code",
   "execution_count": 7,
   "id": "82902750",
   "metadata": {},
   "outputs": [
    {
     "name": "stdout",
     "output_type": "stream",
     "text": [
      "yt-dlp -f 18+22 --merge-output-format mp4 https://www.youtube.com/watch?v=--PJHxphWEs -o 0.mp4\n",
      "ffmpeg -i 0.mp4 -y -f image2 -ss 30 -t 10 -s 640x360 -vframes 1 0.jpg\n",
      "ffmpeg -i 0.mp4 -f wav -ar 16000 c0.wav\n",
      "del \"0.mp4\"\n",
      "ffmpeg -i c0.wav -vn -acodec copy -ss 30 -t 10 0.wav\n",
      "del \"c0.wav\"\n",
      "\n",
      "yt-dlp -f 18+22 --merge-output-format mp4 https://www.youtube.com/watch?v=--ZhevVpy1s -o 1.mp4\n",
      "ffmpeg -i 1.mp4 -y -f image2 -ss 50 -t 10 -s 640x360 -vframes 1 1.jpg\n",
      "ffmpeg -i 1.mp4 -f wav -ar 16000 c1.wav\n",
      "del \"1.mp4\"\n",
      "ffmpeg -i c1.wav -vn -acodec copy -ss 50 -t 10 1.wav\n",
      "del \"c1.wav\"\n",
      "\n",
      "yt-dlp -f 18+22 --merge-output-format mp4 https://www.youtube.com/watch?v=--aE2O5G5WE -o 2.mp4\n",
      "ffmpeg -i 2.mp4 -y -f image2 -ss 0 -t 10 -s 640x360 -vframes 1 2.jpg\n",
      "ffmpeg -i 2.mp4 -f wav -ar 16000 c2.wav\n",
      "del \"2.mp4\"\n",
      "ffmpeg -i c2.wav -vn -acodec copy -ss 0 -t 10 2.wav\n",
      "del \"c2.wav\"\n",
      "\n",
      "yt-dlp -f 18+22 --merge-output-format mp4 https://www.youtube.com/watch?v=--aO5cdqSAg -o 3.mp4\n",
      "ffmpeg -i 3.mp4 -y -f image2 -ss 30 -t 10 -s 640x360 -vframes 1 3.jpg\n",
      "ffmpeg -i 3.mp4 -f wav -ar 16000 c3.wav\n",
      "del \"3.mp4\"\n",
      "ffmpeg -i c3.wav -vn -acodec copy -ss 30 -t 10 3.wav\n",
      "del \"c3.wav\"\n",
      "\n",
      "yt-dlp -f 18+22 --merge-output-format mp4 https://www.youtube.com/watch?v=--aaILOrkII -o 4.mp4\n",
      "ffmpeg -i 4.mp4 -y -f image2 -ss 200 -t 10 -s 640x360 -vframes 1 4.jpg\n",
      "ffmpeg -i 4.mp4 -f wav -ar 16000 c4.wav\n",
      "del \"4.mp4\"\n",
      "ffmpeg -i c4.wav -vn -acodec copy -ss 200 -t 10 4.wav\n",
      "del \"c4.wav\"\n",
      "\n",
      "yt-dlp -f 18+22 --merge-output-format mp4 https://www.youtube.com/watch?v=--cB2ZVjpnA -o 5.mp4\n",
      "ffmpeg -i 5.mp4 -y -f image2 -ss 30 -t 10 -s 640x360 -vframes 1 5.jpg\n",
      "ffmpeg -i 5.mp4 -f wav -ar 16000 c5.wav\n",
      "del \"5.mp4\"\n",
      "ffmpeg -i c5.wav -vn -acodec copy -ss 30 -t 10 5.wav\n",
      "del \"c5.wav\"\n",
      "\n",
      "yt-dlp -f 18+22 --merge-output-format mp4 https://www.youtube.com/watch?v=--ekDLDTUXA -o 6.mp4\n",
      "ffmpeg -i 6.mp4 -y -f image2 -ss 30 -t 10 -s 640x360 -vframes 1 6.jpg\n",
      "ffmpeg -i 6.mp4 -f wav -ar 16000 c6.wav\n",
      "del \"6.mp4\"\n",
      "ffmpeg -i c6.wav -vn -acodec copy -ss 30 -t 10 6.wav\n",
      "del \"c6.wav\"\n",
      "\n",
      "yt-dlp -f 18+22 --merge-output-format mp4 https://www.youtube.com/watch?v=-0DLPzsiXXE -o 7.mp4\n",
      "ffmpeg -i 7.mp4 -y -f image2 -ss 30 -t 10 -s 640x360 -vframes 1 7.jpg\n",
      "ffmpeg -i 7.mp4 -f wav -ar 16000 c7.wav\n",
      "del \"7.mp4\"\n",
      "ffmpeg -i c7.wav -vn -acodec copy -ss 30 -t 10 7.wav\n",
      "del \"c7.wav\"\n",
      "\n",
      "yt-dlp -f 18+22 --merge-output-format mp4 https://www.youtube.com/watch?v=-0DdlOuIFUI -o 8.mp4\n",
      "ffmpeg -i 8.mp4 -y -f image2 -ss 50 -t 10 -s 640x360 -vframes 1 8.jpg\n",
      "ffmpeg -i 8.mp4 -f wav -ar 16000 c8.wav\n",
      "del \"8.mp4\"\n",
      "ffmpeg -i c8.wav -vn -acodec copy -ss 50 -t 10 8.wav\n",
      "del \"c8.wav\"\n",
      "\n",
      "yt-dlp -f 18+22 --merge-output-format mp4 https://www.youtube.com/watch?v=-0FHUc78Gqo -o 9.mp4\n",
      "ffmpeg -i 9.mp4 -y -f image2 -ss 30 -t 10 -s 640x360 -vframes 1 9.jpg\n",
      "ffmpeg -i 9.mp4 -f wav -ar 16000 c9.wav\n",
      "del \"9.mp4\"\n",
      "ffmpeg -i c9.wav -vn -acodec copy -ss 30 -t 10 9.wav\n",
      "del \"c9.wav\"\n",
      "\n"
     ]
    }
   ],
   "source": [
    "for i in range(10):\n",
    "    print(\"yt-dlp -f 18+22 --merge-output-format mp4 https://www.youtube.com/watch?v=\" + df.iloc[i,0] + \" -o %d.mp4\"%(i))\n",
    "    print(\"ffmpeg -i %d.mp4 -y -f image2 -ss \"%(i) + str(int(df.iloc[i,1])) + \" -t 10 -s 640x360 -vframes 1 %d.jpg\"%(i))\n",
    "    print(\"ffmpeg -i %d.mp4 -f wav -ar 16000 c%d.wav\"%(i,i))\n",
    "    print(\"del \\\"\" + str(i) + \".mp4\\\"\")\n",
    "    print(\"ffmpeg -i c%d.wav -vn -acodec copy -ss \"%(i) + str(int(df.iloc[i,1])) + \" -t 10 %d.wav\"%(i))\n",
    "    print(\"del \\\"c%d.wav\\\"\\n\"%(i))"
   ]
  },
  {
   "cell_type": "code",
   "execution_count": null,
   "id": "5bffe19d",
   "metadata": {},
   "outputs": [],
   "source": []
  }
 ],
 "metadata": {
  "kernelspec": {
   "display_name": "Python 3 (ipykernel)",
   "language": "python",
   "name": "python3"
  },
  "language_info": {
   "codemirror_mode": {
    "name": "ipython",
    "version": 3
   },
   "file_extension": ".py",
   "mimetype": "text/x-python",
   "name": "python",
   "nbconvert_exporter": "python",
   "pygments_lexer": "ipython3",
   "version": "3.8.10"
  }
 },
 "nbformat": 4,
 "nbformat_minor": 5
}
