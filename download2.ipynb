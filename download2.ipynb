{
 "cells": [
  {
   "cell_type": "code",
   "execution_count": 1,
   "id": "73ab35dd",
   "metadata": {},
   "outputs": [],
   "source": [
    "import pandas as pd\n",
    "import numpy as np\n",
    "from pandas import Series, DataFrame\n",
    "import ffmpeg as fg"
   ]
  },
  {
   "cell_type": "code",
   "execution_count": 2,
   "id": "c0806531",
   "metadata": {},
   "outputs": [],
   "source": [
    "#改变jupyter展示默认行数\n",
    "# pd.set_option(\"display.max_rows\",None)\n",
    "# pd.set_option(\"display.max_columns\",None)\n",
    "# pd.set_option('display.max_colwidth', 1000)"
   ]
  },
  {
   "cell_type": "code",
   "execution_count": 3,
   "id": "4f11cfbc",
   "metadata": {},
   "outputs": [],
   "source": [
    "pd.set_option('display.unicode.ambiguous_as_wide', True)\n",
    "pd.set_option('display.unicode.east_asian_width', True)"
   ]
  },
  {
   "cell_type": "code",
   "execution_count": 4,
   "id": "fd38b983",
   "metadata": {},
   "outputs": [],
   "source": [
    "df = pd.read_csv('vggsound.csv', index_col=None)"
   ]
  },
  {
   "cell_type": "code",
   "execution_count": 5,
   "id": "a510d3da",
   "metadata": {
    "scrolled": false
   },
   "outputs": [
    {
     "data": {
      "text/html": [
       "<div>\n",
       "<style scoped>\n",
       "    .dataframe tbody tr th:only-of-type {\n",
       "        vertical-align: middle;\n",
       "    }\n",
       "\n",
       "    .dataframe tbody tr th {\n",
       "        vertical-align: top;\n",
       "    }\n",
       "\n",
       "    .dataframe thead th {\n",
       "        text-align: right;\n",
       "    }\n",
       "</style>\n",
       "<table border=\"1\" class=\"dataframe\">\n",
       "  <thead>\n",
       "    <tr style=\"text-align: right;\">\n",
       "      <th></th>\n",
       "      <th>ID</th>\n",
       "      <th>start_time</th>\n",
       "      <th>Unnamed: 2</th>\n",
       "      <th>Unnamed: 3</th>\n",
       "    </tr>\n",
       "  </thead>\n",
       "  <tbody>\n",
       "    <tr>\n",
       "      <th>0</th>\n",
       "      <td>#NAME?</td>\n",
       "      <td>1</td>\n",
       "      <td>people marching</td>\n",
       "      <td>test</td>\n",
       "    </tr>\n",
       "    <tr>\n",
       "      <th>1</th>\n",
       "      <td>--0PQM4-hqg</td>\n",
       "      <td>30</td>\n",
       "      <td>waterfall burbling</td>\n",
       "      <td>train</td>\n",
       "    </tr>\n",
       "    <tr>\n",
       "      <th>2</th>\n",
       "      <td>--56QUhyDQM</td>\n",
       "      <td>185</td>\n",
       "      <td>playing tennis</td>\n",
       "      <td>train</td>\n",
       "    </tr>\n",
       "    <tr>\n",
       "      <th>3</th>\n",
       "      <td>--5OkAjCI7g</td>\n",
       "      <td>40</td>\n",
       "      <td>people belly laughing</td>\n",
       "      <td>train</td>\n",
       "    </tr>\n",
       "    <tr>\n",
       "      <th>4</th>\n",
       "      <td>--8puiAGLhs</td>\n",
       "      <td>30</td>\n",
       "      <td>car engine starting</td>\n",
       "      <td>train</td>\n",
       "    </tr>\n",
       "    <tr>\n",
       "      <th>...</th>\n",
       "      <td>...</td>\n",
       "      <td>...</td>\n",
       "      <td>...</td>\n",
       "      <td>...</td>\n",
       "    </tr>\n",
       "    <tr>\n",
       "      <th>199171</th>\n",
       "      <td>zzsUhaDSqzI</td>\n",
       "      <td>145</td>\n",
       "      <td>lathe spinning</td>\n",
       "      <td>train</td>\n",
       "    </tr>\n",
       "    <tr>\n",
       "      <th>199172</th>\n",
       "      <td>zztvx3WUBss</td>\n",
       "      <td>30</td>\n",
       "      <td>people shuffling</td>\n",
       "      <td>train</td>\n",
       "    </tr>\n",
       "    <tr>\n",
       "      <th>199173</th>\n",
       "      <td>zzvCPtdNxNo</td>\n",
       "      <td>68</td>\n",
       "      <td>civil defense siren</td>\n",
       "      <td>test</td>\n",
       "    </tr>\n",
       "    <tr>\n",
       "      <th>199174</th>\n",
       "      <td>zzvSVusPPgM</td>\n",
       "      <td>30</td>\n",
       "      <td>chicken clucking</td>\n",
       "      <td>train</td>\n",
       "    </tr>\n",
       "    <tr>\n",
       "      <th>199175</th>\n",
       "      <td>zzwbG0dHLhI</td>\n",
       "      <td>150</td>\n",
       "      <td>lawn mowing</td>\n",
       "      <td>train</td>\n",
       "    </tr>\n",
       "  </tbody>\n",
       "</table>\n",
       "<p>199176 rows × 4 columns</p>\n",
       "</div>"
      ],
      "text/plain": [
       "                 ID  start_time             Unnamed: 2 Unnamed: 3\n",
       "0            #NAME?           1        people marching       test\n",
       "1       --0PQM4-hqg          30     waterfall burbling      train\n",
       "2       --56QUhyDQM         185         playing tennis      train\n",
       "3       --5OkAjCI7g          40  people belly laughing      train\n",
       "4       --8puiAGLhs          30    car engine starting      train\n",
       "...             ...         ...                    ...        ...\n",
       "199171  zzsUhaDSqzI         145         lathe spinning      train\n",
       "199172  zztvx3WUBss          30       people shuffling      train\n",
       "199173  zzvCPtdNxNo          68    civil defense siren       test\n",
       "199174  zzvSVusPPgM          30       chicken clucking      train\n",
       "199175  zzwbG0dHLhI         150            lawn mowing      train\n",
       "\n",
       "[199176 rows x 4 columns]"
      ]
     },
     "execution_count": 5,
     "metadata": {},
     "output_type": "execute_result"
    }
   ],
   "source": [
    "df = df.dropna()\n",
    "df"
   ]
  },
  {
   "cell_type": "code",
   "execution_count": 6,
   "id": "808e7a4c",
   "metadata": {},
   "outputs": [
    {
     "name": "stdout",
     "output_type": "stream",
     "text": [
      "cd /d C:\\Users\\Jae\\Desktop\\data\\VGG_Data\n"
     ]
    }
   ],
   "source": [
    "print(r\"cd /d C:\\Users\\Jae\\Desktop\\data\\VGG_Data\")"
   ]
  },
  {
   "cell_type": "code",
   "execution_count": null,
   "id": "82902750",
   "metadata": {},
   "outputs": [],
   "source": [
    "for i in range(199175):\n",
    "    print(\"yt-dlp -f 18+22 --merge-output-format mp4 https://www.youtube.com/watch?v=\" + df.iloc[i,0] + \" -o %d.mp4\"%(i))\n",
    "    print(\"ffmpeg -i %d.mp4 -y -f image2 -ss \"%(i) + str(int(df.iloc[i,1])+4) + \" -s 640x360 %d.jpg\"%(i))\n",
    "    print(\"ffmpeg -i %d.mp4 -f wav -ar 44100 c%d.wav\"%(i,i))\n",
    "    print(\"del \\\"\" + str(i) + \".mp4\\\"\")\n",
    "    print(\"ffmpeg -i c%d.wav -vn -acodec copy -ss \"%(i) + str(int(df.iloc[i,1])) + \" -t 10 %d.wav\"%(i))\n",
    "    print(\"del \\\"c%d.wav\\\"\\n\"%(i))"
   ]
  }
 ],
 "metadata": {
  "kernelspec": {
   "display_name": "Python 3 (ipykernel)",
   "language": "python",
   "name": "python3"
  },
  "language_info": {
   "codemirror_mode": {
    "name": "ipython",
    "version": 3
   },
   "file_extension": ".py",
   "mimetype": "text/x-python",
   "name": "python",
   "nbconvert_exporter": "python",
   "pygments_lexer": "ipython3",
   "version": "3.8.10"
  }
 },
 "nbformat": 4,
 "nbformat_minor": 5
}
